{
 "cells": [
  {
   "cell_type": "markdown",
   "metadata": {},
   "source": [
    "# DIY Covid-19 Dashboard"
   ]
  },
  {
   "cell_type": "markdown",
   "metadata": {},
   "source": [
    "This is a dashboard of This is a dashboard showing the distribution of COVID-19 death data based on age in England.\n"
   ]
  },
  {
   "cell_type": "markdown",
   "metadata": {},
   "source": [
    "First, we should import libararies we need"
   ]
  },
  {
   "cell_type": "code",
   "execution_count": 1,
   "metadata": {},
   "outputs": [],
   "source": [
    "from IPython.display import clear_output\n",
    "import ipywidgets as wdg\n",
    "import pandas as pd\n",
    "import numpy as np\n",
    "import matplotlib.pyplot as plt\n",
    "import json\n",
    "from uk_covid19 import Cov19API\n",
    "\n",
    "%matplotlib inline\n",
    "# make figures larger\n",
    "plt.rcParams['figure.dpi'] = 100"
   ]
  },
  {
   "cell_type": "markdown",
   "metadata": {},
   "source": [
    "## Load initial data from disk"
   ]
  },
  {
   "cell_type": "markdown",
   "metadata": {},
   "source": [
    "We have put the .json file and the dashboard together, and our dashboard needs to read the .json file"
   ]
  },
  {
   "cell_type": "code",
   "execution_count": 2,
   "metadata": {},
   "outputs": [
    {
     "ename": "FileNotFoundError",
     "evalue": "[Errno 2] No such file or directory: 'deathagedistribution.json'",
     "output_type": "error",
     "traceback": [
      "\u001b[1;31m---------------------------------------------------------------------------\u001b[0m",
      "\u001b[1;31mFileNotFoundError\u001b[0m                         Traceback (most recent call last)",
      "\u001b[1;32m~\\AppData\\Local\\Temp/ipykernel_20608/2646747027.py\u001b[0m in \u001b[0;36m<module>\u001b[1;34m\u001b[0m\n\u001b[0;32m      1\u001b[0m \u001b[1;31m# Load JSON files and store the raw data in some variable.\u001b[0m\u001b[1;33m\u001b[0m\u001b[1;33m\u001b[0m\u001b[0m\n\u001b[1;32m----> 2\u001b[1;33m \u001b[1;32mwith\u001b[0m \u001b[0mopen\u001b[0m\u001b[1;33m(\u001b[0m\u001b[1;34m\"deathagedistribution.json\"\u001b[0m\u001b[1;33m,\u001b[0m\u001b[1;34m\"rt\"\u001b[0m\u001b[1;33m)\u001b[0m \u001b[1;32mas\u001b[0m \u001b[0mINFILE\u001b[0m\u001b[1;33m:\u001b[0m\u001b[1;33m\u001b[0m\u001b[1;33m\u001b[0m\u001b[0m\n\u001b[0m\u001b[0;32m      3\u001b[0m     \u001b[0mdata\u001b[0m\u001b[1;33m=\u001b[0m\u001b[0mjson\u001b[0m\u001b[1;33m.\u001b[0m\u001b[0mload\u001b[0m\u001b[1;33m(\u001b[0m\u001b[0mINFILE\u001b[0m\u001b[1;33m)\u001b[0m\u001b[1;33m\u001b[0m\u001b[1;33m\u001b[0m\u001b[0m\n",
      "\u001b[1;31mFileNotFoundError\u001b[0m: [Errno 2] No such file or directory: 'deathagedistribution.json'"
     ]
    }
   ],
   "source": [
    "# Load JSON files and store the raw data in some variable.\n",
    "with open(\"deathagedistribution.json\",\"rt\") as INFILE:\n",
    "    data=json.load(INFILE)"
   ]
  },
  {
   "cell_type": "markdown",
   "metadata": {},
   "source": [
    "## Wrangle the data"
   ]
  },
  {
   "cell_type": "markdown",
   "metadata": {},
   "source": [
    "We need a function to process the raw data to make it into a table form. And this function can also used to process the raw data we get from api."
   ]
  },
  {
   "cell_type": "code",
   "execution_count": null,
   "metadata": {},
   "outputs": [],
   "source": [
    "def wrangle_data(rawdata):\n",
    "    # Parameters: rawdata - data from json file or API call. Returns a dataframe.\n",
    "    \n",
    "    # First, we need to define the empty form\n",
    "    df=pd.DataFrame(index=range(0,100), columns=['One', 'Two'])\n",
    "    datadic=data['data'][0]\n",
    "    malesdeaths=datadic['maledeaths']\n",
    "    femaledeaths=datadic['femaledeaths']\n",
    "    ageranges=[x['age'] for x in malesdeaths]\n",
    "    \n",
    "    # get every agerange's min age\n",
    "    def min_age(agerange):\n",
    "        agerange=agerange.replace('+','')\n",
    "        start=agerange.split('_')[0]\n",
    "        return int(start)\n",
    "    \n",
    "    # sort agerange\n",
    "    ageranges.sort(key=min_age)\n",
    "    age_df=pd.DataFrame(index=ageranges,columns=['maledeaths','femaledeaths'])\n",
    "    \n",
    "    # We fill the data into the form\n",
    "    for entry in malesdeaths:\n",
    "        ageband=entry['age']\n",
    "        age_df.loc[ageband,'maledeaths']=entry['value']\n",
    "    for entry in femaledeaths:\n",
    "        ageband=entry['age']\n",
    "        age_df.loc[ageband,'femaledeaths']=entry['value']\n",
    "    age_df['total']=age_df['maledeaths']+age_df['femaledeaths']\n",
    "    return age_df\n",
    "\"\"\"putting the wrangling code into a function allows you to call it again after refreshing \n",
    "the data through the API. You should call the function directly on the JSON data when the \n",
    "dashboard starts, by including the call in the cell as below:\"\"\"\n",
    "df=wrangle_data(data) # df is the dataframe for plotting"
   ]
  },
  {
   "cell_type": "markdown",
   "metadata": {},
   "source": [
    "## Download current data"
   ]
  },
  {
   "cell_type": "markdown",
   "metadata": {},
   "source": [
    "Give users an option to refresh the dataset - a \"update data\" button. And once we update the dataset, the file will be updated too."
   ]
  },
  {
   "cell_type": "code",
   "execution_count": null,
   "metadata": {},
   "outputs": [],
   "source": [
    "def access_api():\n",
    "    \"\"\" Accesses the PHE API. Returns raw data in the same format as data loaded from the JSON file. \"\"\"\n",
    "    filter = [\n",
    "        'areaType=nation',\n",
    "        'areaName=England'\n",
    "    ]\n",
    "    structure = {\n",
    "        \"maledeaths\":\"maleDeaths28Days\",\n",
    "        \"femaledeaths\":\"femaleDeaths28Days\"\n",
    "    }\n",
    "    api = Cov19API(filters=filter,structure=structure)\n",
    "    deathagedistribution28days=api.get_json()\n",
    "    return deathagedistribution28days # return data read from the API"
   ]
  },
  {
   "cell_type": "code",
   "execution_count": null,
   "metadata": {},
   "outputs": [],
   "source": [
    "def api_button_callback(button):\n",
    "    # Get fresh data from the API.\n",
    "    apidata=access_api()\n",
    "    # wrangle the data and overwrite \n",
    "    global df\n",
    "    df=wrangle_data(apidata)\n",
    "    # update raw data yo json file\n",
    "    with open(\"deathagedistribution.json\",\"wt\") as OUTF:\n",
    "        json.dump(apidata,OUTF)\n",
    "    refresh_graph()\n",
    "    # refresh graph\n",
    "    apibutton.icon=\"check\"\n",
    "    apibutton.disabled=True\n",
    "    # after clicking the button, the button will be \"Unavailable\"\n",
    "    \n",
    "# set button style    \n",
    "apibutton=wdg.Button(\n",
    "    description='Update data', \n",
    "    disabled=False,\n",
    "    button_style='', \n",
    "    tooltip=\"Click to download current Public Health England data\",\n",
    "    icon='download'\n",
    ")\n",
    "\n",
    "\n",
    "apibutton.on_click(api_button_callback) \n",
    "\n",
    "# we can display our button\n",
    "\n",
    "display(apibutton)\n",
    "\n"
   ]
  },
  {
   "cell_type": "markdown",
   "metadata": {},
   "source": [
    "## Graphs and Analysis"
   ]
  },
  {
   "cell_type": "markdown",
   "metadata": {},
   "source": [
    "We can plot our graph with processed data and add a controller."
   ]
  },
  {
   "cell_type": "code",
   "execution_count": null,
   "metadata": {},
   "outputs": [],
   "source": [
    "def plot(graphcolumns):\n",
    "    ncols=len(graphcolumns)\n",
    "    if ncols>0:\n",
    "        df.plot(kind='bar', y=list(graphcolumns)) # graphcolumns is a tuple - we need a list\n",
    "        plt.show() \n",
    "    else:\n",
    "        # if the user has not selected any column, print a message \n",
    "        print(\"Click to select data for graph\")\n",
    "        print(\"(CTRL-Click to select more than one category)\")\n",
    "\n",
    "agecols=wdg.SelectMultiple(\n",
    "    options=['maledeaths', 'femaledeaths', 'total'], # options available\n",
    "    value=['maledeaths', 'femaledeaths'], # initial value\n",
    "    rows=3, # rows of the selection box\n",
    "    description='Sex',\n",
    "    disabled=False\n",
    ")\n",
    "\n",
    "def refresh_graph():\n",
    "    \"\"\" We regenerate the graph after acquiring new data. \"\"\"\n",
    "    garph=wdg.interactive_output(plot,{'graphcolumns': agecols})\n",
    "    display(agecols,graph)\n",
    "    \n",
    "    \n",
    "graph=wdg.interactive_output(plot, {'graphcolumns': agecols})\n",
    "    \n",
    "display(agecols, graph)"
   ]
  }
 ],
 "metadata": {
  "interpreter": {
   "hash": "d5617e732ca6d0f97d503aeafa272febe8a6e8f43e2faf7823e5c792920b9a5b"
  },
  "kernelspec": {
   "display_name": "Python 3.10.0 64-bit",
   "language": "python",
   "name": "python3"
  },
  "language_info": {
   "codemirror_mode": {
    "name": "ipython",
    "version": 3
   },
   "file_extension": ".py",
   "mimetype": "text/x-python",
   "name": "python",
   "nbconvert_exporter": "python",
   "pygments_lexer": "ipython3",
   "version": "3.10.0"
  },
  "orig_nbformat": 4
 },
 "nbformat": 4,
 "nbformat_minor": 2
}
